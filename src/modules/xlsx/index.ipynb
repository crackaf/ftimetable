{
 "cells": [
  {
   "cell_type": "code",
   "execution_count": null,
   "source": [
    "import { WorkBook, WorkSheet } from 'xlsx/types';\n",
    "\n",
    "\n",
    "import { XLSXUtils } from \"./XLSXUtils\";\n",
    "import {XLSXParser} from \"./XLSXParser\";\n",
    "\n"
   ],
   "outputs": [],
   "metadata": {}
  },
  {
   "cell_type": "code",
   "execution_count": null,
   "source": [
    "let filepath=\"C:\\\\Users\\\\hunzl\\\\OneDrive\\\\Programming\\\\timetable\\\\static\\\\data\\\\FSC_TT_spring_2021.xlsx\""
   ],
   "outputs": [],
   "metadata": {}
  },
  {
   "cell_type": "code",
   "execution_count": null,
   "source": [
    "var wb: WorkBook = XLSXUtils.loadFile(filepath);\n",
    "var ws: WorkSheet=wb.Sheets[wb.SheetNames[1]]\n",
    "ws"
   ],
   "outputs": [],
   "metadata": {}
  },
  {
   "cell_type": "code",
   "execution_count": null,
   "source": [
    "XLSXUtils.fillMerges(ws);\n",
    "ws"
   ],
   "outputs": [],
   "metadata": {}
  },
  {
   "cell_type": "code",
   "execution_count": null,
   "source": [
    "let xlsParser: XLSXParser = new XLSXParser(ws);"
   ],
   "outputs": [],
   "metadata": {}
  },
  {
   "cell_type": "code",
   "execution_count": null,
   "source": [
    "xlsParser.courses;"
   ],
   "outputs": [],
   "metadata": {}
  },
  {
   "cell_type": "code",
   "execution_count": null,
   "source": [
    "JSON.stringify(xlsParser.courses)"
   ],
   "outputs": [],
   "metadata": {}
  },
  {
   "cell_type": "markdown",
   "source": [
    "OTHER Testing"
   ],
   "metadata": {}
  },
  {
   "cell_type": "code",
   "execution_count": null,
   "source": [
    "import {toWeekdays,weekdaysToStr} from './utils'\n",
    "import {WeekdaysEnum} from './interfaces'"
   ],
   "outputs": [],
   "metadata": {}
  },
  {
   "cell_type": "code",
   "execution_count": null,
   "source": [
    "let str=\"  Monday kksdy\"\n",
    "toWeekdays(str)"
   ],
   "outputs": [],
   "metadata": {}
  },
  {
   "cell_type": "code",
   "execution_count": null,
   "source": [
    "typeof str"
   ],
   "outputs": [],
   "metadata": {}
  },
  {
   "cell_type": "code",
   "execution_count": null,
   "source": [
    "\n",
    "let e=WeekdaysEnum[str.trim().split(/\\s+/)[0] as keyof typeof WeekdaysEnum];\n",
    "typeof e"
   ],
   "outputs": [],
   "metadata": {}
  },
  {
   "cell_type": "code",
   "execution_count": null,
   "source": [
    "typeof WeekdaysEnum[7]"
   ],
   "outputs": [],
   "metadata": {}
  },
  {
   "cell_type": "markdown",
   "source": [
    "toStr"
   ],
   "metadata": {}
  },
  {
   "cell_type": "code",
   "execution_count": null,
   "source": [
    "xlsParser.coursesJSON = XLSXParser.toXLSXJSON(xlsParser.courses);\n"
   ],
   "outputs": [],
   "metadata": {}
  },
  {
   "cell_type": "code",
   "execution_count": null,
   "source": [
    "XLSXParser.toStr(xlsParser.coursesJSON[2])"
   ],
   "outputs": [],
   "metadata": {}
  },
  {
   "cell_type": "markdown",
   "source": [
    "time"
   ],
   "metadata": {}
  },
  {
   "cell_type": "code",
   "execution_count": null,
   "source": [
    "import {mintToHour,timeToStr}from './utils';"
   ],
   "outputs": [],
   "metadata": {}
  },
  {
   "cell_type": "code",
   "execution_count": null,
   "source": [
    "let minutes=800\n",
    "let lla=mintToHour(minutes, \"12\")\n",
    "lla"
   ],
   "outputs": [],
   "metadata": {}
  },
  {
   "cell_type": "code",
   "execution_count": null,
   "source": [
    "timeToStr(lla)"
   ],
   "outputs": [],
   "metadata": {}
  },
  {
   "cell_type": "code",
   "execution_count": null,
   "source": [
    "let lst=[\"asldad\",\"asfasfa\",\"aflasnf\"]\n",
    "console.log(String(lst))\n",
    "console."
   ],
   "outputs": [],
   "metadata": {}
  },
  {
   "cell_type": "code",
   "execution_count": 2,
   "source": [
    "import {XLSXCourseHoursEnum, WeekdaysEnum,WeekdaysEnumEN} from './interfaces'"
   ],
   "outputs": [],
   "metadata": {}
  },
  {
   "cell_type": "code",
   "execution_count": 8,
   "source": [
    "XLSXCourseHoursEnum[\n",
    "  Object.keys(XLSXCourseHoursEnum)[\n",
    "    1\n",
    "  ]\n",
    "];\n",
    "XLSXCourseHoursEnum[\n",
    "  Object.keys(XLSXCourseHoursEnum)[\n",
    "    8\n",
    "  ]\n",
    "];"
   ],
   "outputs": [],
   "metadata": {}
  },
  {
   "cell_type": "code",
   "execution_count": 22,
   "source": [
    "WeekdaysEnumEN[\n",
    "  WeekdaysEnum[5]\n",
    "];"
   ],
   "outputs": [
    {
     "output_type": "stream",
     "name": "stdout",
     "text": [
      "Saturday\n"
     ]
    }
   ],
   "metadata": {}
  },
  {
   "cell_type": "code",
   "execution_count": null,
   "source": [],
   "outputs": [],
   "metadata": {}
  }
 ],
 "metadata": {
  "orig_nbformat": 4,
  "language_info": {
   "name": "javascript",
   "version": "",
   "mimetype": "text/javascript",
   "file_extension": ".js"
  },
  "kernelspec": {
   "name": "jslab",
   "display_name": "JavaScript",
   "language": "javascript"
  }
 },
 "nbformat": 4,
 "nbformat_minor": 2
}